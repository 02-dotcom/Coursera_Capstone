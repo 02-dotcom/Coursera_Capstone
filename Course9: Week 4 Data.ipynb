{
    "cells": [
        {
            "cell_type": "markdown",
            "metadata": {},
            "source": "<h3> Background information"
        },
        {
            "cell_type": "markdown",
            "metadata": {},
            "source": "The City of New York, is the most populous city in the United States. It is diverse and\nis the financial capital of USA. It is multicultural. It provides lot of business\noppourtunities and business friendly environment. It has attracted many different\nplayers into the market. It is a global hub of business and commerce. The city is a major\ncenter for banking and finance, retailing, world trade, transportation, tourism, real\nestate, new media, traditional media, advertising, legal services, accountancy,\ninsurance, theater, fashion, and the arts in the United States. This also means that the\nmarket is highly competitive. As it is highly developed city so cost of doing business is\nalso one of the highest. Thus, any new business venture or expansion needs to be\nanalysed carefully. The insights derived from analysis will give good understanding of\nthe business environment which help in strategically targeting the market. This will help\nin reduction of risk. And the Return on Investment will be reasonable."
        },
        {
            "cell_type": "markdown",
            "metadata": {},
            "source": "The City of New York is famous for its excelllent cuisine. It's food culture includes an\narray of international cuisines influenced by the city's immigrant history. Sushi\nrestaurants have become so popular in the United States now it seems that there is one\non every corner, not only in major cities but also in smaller cities. Starting a sushi\nrestaurant can be a great business opportunity, but you need to distinguish yourself\nfrom others to enjoy long-term success.\n\nIf you plan a real restaurant that can demand higher prices for fresh fish, delivered daily\nfrom Japan, focus on neighborhoods and outlets that already attract a sophisticated\nJapanese client. If you plan a cheap buffet restaurant, points to the masses looking for\naffordable high-traffic locations with large shopping centers and other local points of\ninterest.\n\n"
        },
        {
            "cell_type": "markdown",
            "metadata": {},
            "source": "<h3> Scenario <h3>"
        },
        {
            "cell_type": "markdown",
            "metadata": {},
            "source": "My client wants to open his business in Manhattan area, so I focus on that borough\nduring my analysis. We define potential neighborhood based on the number of sushi\nbars which are operating right in each neighborhood. Manhattan has full potential but\nalso is a very challenging district to open a business because of high competition. New\nsushi bar should be open in an area that inadequate neighborhood in this way the bar \ncan attract more customers. Therefore, this analysis necessary to ensure that we have\nenough customers and that we are not so close to other sushi places."
        },
        {
            "cell_type": "markdown",
            "metadata": {
                "collapsed": true
            },
            "source": "<h3> In order to find the best location for my sushi shop, we will use the following information <h3>"
        },
        {
            "cell_type": "markdown",
            "metadata": {},
            "source": "New York has a total of 5 boroughs and 306 neighborhoods. In order to segement the neighborhoods and explore them, we will essentially need a dataset that contains the 5 boroughs and the neighborhoods that exist in each borough as well as the the latitude and logitude coordinates of each neighborhood. This is the link to the dataset: https://geo.nyu.edu/catalog/nyu_2451_34572\n\nFrom Foursquare Venues Categories - https://developer.foursquare.com/docs/resources/categories Sushi category Id - 4bf58dd8d48988d1d2941735"
        },
        {
            "cell_type": "markdown",
            "metadata": {},
            "source": ""
        }
    ],
    "metadata": {
        "kernelspec": {
            "display_name": "Python 3.7",
            "language": "python",
            "name": "python3"
        },
        "language_info": {
            "codemirror_mode": {
                "name": "ipython",
                "version": 3
            },
            "file_extension": ".py",
            "mimetype": "text/x-python",
            "name": "python",
            "nbconvert_exporter": "python",
            "pygments_lexer": "ipython3",
            "version": "3.7.9"
        }
    },
    "nbformat": 4,
    "nbformat_minor": 1
}